{
 "cells": [
  {
   "cell_type": "code",
   "execution_count": 1,
   "id": "2a3d4ec8-c0f0-4fdf-914b-c8bea3c4a6ce",
   "metadata": {},
   "outputs": [],
   "source": [
    "from flask import Flask, request, jsonify\n",
    "import redis"
   ]
  },
  {
   "cell_type": "code",
   "execution_count": 2,
   "id": "bd4f5378-1a02-48e4-85c4-9f1524b609d7",
   "metadata": {},
   "outputs": [],
   "source": [
    "app = Flask(__name__)\n",
    "r = redis.Redis(host='localhost', port=6379, decode_responses=True)"
   ]
  },
  {
   "cell_type": "code",
   "execution_count": 3,
   "id": "33e40add-2281-4cbf-b0e1-2cb06a0bf93a",
   "metadata": {},
   "outputs": [],
   "source": [
    "@app.route('/submit', methods=['POST'])\n",
    "def submit():\n",
    "    data = request.json\n",
    "    user_id = data.get('user_id')\n",
    "    if not user_id:\n",
    "        return jsonify({\"error\": \"No user_id\"}), 400\n",
    "    r.hmset(f\"user:{user_id}\", data)\n",
    "    return jsonify({\"status\": \"ok\"})"
   ]
  },
  {
   "cell_type": "code",
   "execution_count": 4,
   "id": "4460d8b4-3aa3-4b24-bf6c-b5c11ff31b27",
   "metadata": {},
   "outputs": [],
   "source": [
    "@app.route('/get_user/<user_id>', methods=['GET'])\n",
    "def get_user(user_id):\n",
    "    data = r.hgetall(f\"user:{user_id}\")\n",
    "    if not data:\n",
    "        return jsonify({\"error\": \"not found\"}), 404\n",
    "    return jsonify(data), 200"
   ]
  },
  {
   "cell_type": "code",
   "execution_count": null,
   "id": "f5abc077-39b4-4631-8510-5b71408db42e",
   "metadata": {},
   "outputs": [
    {
     "name": "stdout",
     "output_type": "stream",
     "text": [
      " * Serving Flask app '__main__'\n",
      " * Debug mode: off\n"
     ]
    },
    {
     "name": "stderr",
     "output_type": "stream",
     "text": [
      "\u001b[31m\u001b[1mWARNING: This is a development server. Do not use it in a production deployment. Use a production WSGI server instead.\u001b[0m\n",
      " * Running on http://127.0.0.1:5000\n",
      "\u001b[33mPress CTRL+C to quit\u001b[0m\n",
      "127.0.0.1 - - [14/May/2025 06:45:56] \"GET /get_user/1314266388 HTTP/1.1\" 200 -\n"
     ]
    }
   ],
   "source": [
    "if __name__ == \"__main__\":\n",
    "    app.run(port=5000)"
   ]
  }
 ],
 "metadata": {
  "kernelspec": {
   "display_name": "Python 3 (ipykernel)",
   "language": "python",
   "name": "python3"
  },
  "language_info": {
   "codemirror_mode": {
    "name": "ipython",
    "version": 3
   },
   "file_extension": ".py",
   "mimetype": "text/x-python",
   "name": "python",
   "nbconvert_exporter": "python",
   "pygments_lexer": "ipython3",
   "version": "3.10.12"
  }
 },
 "nbformat": 4,
 "nbformat_minor": 5
}
