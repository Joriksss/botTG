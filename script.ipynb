{
 "cells": [
  {
   "cell_type": "code",
   "execution_count": 1,
   "id": "de44b66d-4841-4e86-8c3d-3e4f3be1d739",
   "metadata": {},
   "outputs": [],
   "source": [
    "import requests\n",
    "import time\n",
    "import json"
   ]
  },
  {
   "cell_type": "code",
   "execution_count": 2,
   "id": "6994ad8f-317b-4d6d-b2d4-6ba3f97ed74b",
   "metadata": {},
   "outputs": [],
   "source": [
    "TOKEN = \"7748916044:AAH-wllmjaZptxyGyxO92uscdNmtsq3AToU\"\n",
    "URL = f\"https://api.telegram.org/bot{TOKEN}/\""
   ]
  },
  {
   "cell_type": "code",
   "execution_count": 3,
   "id": "894cd544-327e-4eed-a268-294bc4e66946",
   "metadata": {},
   "outputs": [],
   "source": [
    "user_states = {}"
   ]
  },
  {
   "cell_type": "code",
   "execution_count": 4,
   "id": "ab8fc275-d52d-47d3-bb03-e478e404c83b",
   "metadata": {},
   "outputs": [],
   "source": [
    "def get_updates(offset=None):\n",
    "    params = {\"timeout\": 100, \"offset\": offset}\n",
    "    response = requests.get(URL + \"getUpdates\", params=params)\n",
    "    return response.json()"
   ]
  },
  {
   "cell_type": "code",
   "execution_count": 5,
   "id": "4c0689c0-8ad3-405c-8f28-3173919dc6be",
   "metadata": {},
   "outputs": [],
   "source": [
    "def send_message(chat_id, text, reply_markup=None):\n",
    "    payload = {\"chat_id\": chat_id, \"text\": text}\n",
    "    if reply_markup:\n",
    "        payload[\"reply_markup\"] = json.dumps(reply_markup)\n",
    "    requests.get(URL + \"sendMessage\", params=payload)"
   ]
  },
  {
   "cell_type": "code",
   "execution_count": 6,
   "id": "d5e28b3b-947a-43fb-915e-3c5c8557c8d3",
   "metadata": {},
   "outputs": [],
   "source": [
    "def handle_message(chat_id, text, user_id):\n",
    "    state = user_states.get(user_id, {}).get(\"state\")\n",
    "\n",
    "    if text == \"/start\":\n",
    "        keyboard = {\n",
    "            \"inline_keyboard\": [\n",
    "                [{\"text\": \"✅ Заполнить анкету\", \"callback_data\": \"fill_form\"}],\n",
    "                [{\"text\": \"❌ Выйти\", \"callback_data\": \"cancel\"}]\n",
    "            ]\n",
    "        }\n",
    "        send_message(\n",
    "            chat_id,\n",
    "            \"Привет, я бот. Я могу сохранить твою анкету.\\nЧто хочешь выбрать?\",\n",
    "            keyboard\n",
    "        )\n",
    "\n",
    "    elif text == \"/help\":\n",
    "        send_message(chat_id,\n",
    "            \"📋 Команды:\\n\"\n",
    "            \"▶ /start — Начать работу с ботом\\n\"\n",
    "            \"▶ /help — Показать все команды\"\n",
    "        )\n",
    "        \n",
    "    elif text == \"/show\":\n",
    "        try:\n",
    "            response = requests.get(f\"http://localhost:5000/get_user/{user_id}\")\n",
    "            if response.ok:\n",
    "                user_data = response.json()\n",
    "                name = user_data.get(\"name\", \"—\")\n",
    "                age = user_data.get(\"age\", \"—\")\n",
    "                send_message(chat_id, f\"🧾 Ваша анкета:\\n👤 Имя: {name}\\n🎂 Возраст: {age}\")\n",
    "            else:\n",
    "                send_message(chat_id, \"⚠ Анкета не найдена. Сначала заполните её через /start.\")\n",
    "        except:\n",
    "            send_message(chat_id, \"❌ Ошибка при подключении к серверу.\")\n",
    "\n",
    "    elif state == \"waiting_name\":\n",
    "        user_states[user_id][\"name\"] = text\n",
    "        user_states[user_id][\"state\"] = \"waiting_age\"\n",
    "        send_message(chat_id, \"Введите ваш возраст:\")\n",
    "\n",
    "    elif state == \"waiting_age\":\n",
    "        user_states[user_id][\"age\"] = text\n",
    "        data = {\n",
    "            \"user_id\": user_id,\n",
    "            \"name\": user_states[user_id][\"name\"],\n",
    "            \"age\": user_states[user_id][\"age\"]\n",
    "        }\n",
    "        response = requests.post(\"http://localhost:5000/submit\", json=data)\n",
    "        if response.ok:\n",
    "            send_message(chat_id, \"✅ Анкета сохранена!\")\n",
    "        else:\n",
    "            send_message(chat_id, \"❌ Ошибка при сохранении анкеты.\")\n",
    "        user_states.pop(user_id)\n"
   ]
  },
  {
   "cell_type": "code",
   "execution_count": 7,
   "id": "9a82f771-b472-4b3f-96cf-f8ba446be54d",
   "metadata": {},
   "outputs": [],
   "source": [
    "def handle_callback_query(callback):\n",
    "    user_id = callback[\"from\"][\"id\"]\n",
    "    chat_id = callback[\"message\"][\"chat\"][\"id\"]\n",
    "    data = callback[\"data\"]\n",
    "\n",
    "    if data == \"fill_form\":\n",
    "        user_states[user_id] = {\"state\": \"waiting_name\"}\n",
    "        send_message(chat_id, \"Введите ваше имя:\")\n",
    "\n",
    "    elif data == \"cancel\":\n",
    "        send_message(chat_id, \"Вы вышли из меню. Напишите /start, чтобы начать заново.\")"
   ]
  },
  {
   "cell_type": "code",
   "execution_count": 8,
   "id": "46228544-8853-4eb9-86d9-a3bc892a98b2",
   "metadata": {},
   "outputs": [],
   "source": [
    "def main():\n",
    "    offset = None\n",
    "    print(\"Бот запущен...\")\n",
    "    while True:\n",
    "        updates = get_updates(offset)\n",
    "\n",
    "        if \"result\" in updates:\n",
    "            for update in updates[\"result\"]:\n",
    "                offset = update[\"update_id\"] + 1\n",
    "\n",
    "                if \"message\" in update:\n",
    "                    message = update[\"message\"]\n",
    "                    chat_id = message[\"chat\"][\"id\"]\n",
    "                    text = message.get(\"text\", \"\")\n",
    "                    user_id = message[\"from\"][\"id\"]\n",
    "                    handle_message(chat_id, text, user_id)\n",
    "\n",
    "                if \"callback_query\" in update:\n",
    "                    handle_callback_query(update[\"callback_query\"])\n",
    "\n",
    "        time.sleep(1)"
   ]
  },
  {
   "cell_type": "code",
   "execution_count": null,
   "id": "368eeea6-4923-49e3-8002-ce29b8319bff",
   "metadata": {},
   "outputs": [
    {
     "name": "stdout",
     "output_type": "stream",
     "text": [
      "Бот запущен...\n"
     ]
    }
   ],
   "source": [
    "if __name__ == \"__main__\":\n",
    "    main()"
   ]
  }
 ],
 "metadata": {
  "kernelspec": {
   "display_name": "Python 3 (ipykernel)",
   "language": "python",
   "name": "python3"
  },
  "language_info": {
   "codemirror_mode": {
    "name": "ipython",
    "version": 3
   },
   "file_extension": ".py",
   "mimetype": "text/x-python",
   "name": "python",
   "nbconvert_exporter": "python",
   "pygments_lexer": "ipython3",
   "version": "3.10.12"
  }
 },
 "nbformat": 4,
 "nbformat_minor": 5
}
